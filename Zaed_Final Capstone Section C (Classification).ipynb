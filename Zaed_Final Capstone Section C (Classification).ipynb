{
 "cells": [
  {
   "cell_type": "markdown",
   "id": "58a07525",
   "metadata": {},
   "source": [
    "1. Import necessary libraries"
   ]
  },
  {
   "cell_type": "code",
   "execution_count": 1,
   "id": "20d8dbe8",
   "metadata": {},
   "outputs": [],
   "source": [
    "# Import libraries\n",
    "\n",
    "import pandas as pd\n",
    "import numpy as np"
   ]
  },
  {
   "cell_type": "markdown",
   "id": "47b09da4",
   "metadata": {},
   "source": [
    "2. Import dataset (employee_dataset.csv)"
   ]
  },
  {
   "cell_type": "code",
   "execution_count": 2,
   "id": "b83ec144",
   "metadata": {},
   "outputs": [
    {
     "data": {
      "text/html": [
       "<div>\n",
       "<style scoped>\n",
       "    .dataframe tbody tr th:only-of-type {\n",
       "        vertical-align: middle;\n",
       "    }\n",
       "\n",
       "    .dataframe tbody tr th {\n",
       "        vertical-align: top;\n",
       "    }\n",
       "\n",
       "    .dataframe thead th {\n",
       "        text-align: right;\n",
       "    }\n",
       "</style>\n",
       "<table border=\"1\" class=\"dataframe\">\n",
       "  <thead>\n",
       "    <tr style=\"text-align: right;\">\n",
       "      <th></th>\n",
       "      <th>Age</th>\n",
       "      <th>BusinessTravel</th>\n",
       "      <th>MonthlyIncome</th>\n",
       "      <th>JobSatisfaction</th>\n",
       "      <th>Bonus</th>\n",
       "      <th>Department</th>\n",
       "      <th>DistanceFromHome</th>\n",
       "      <th>Education</th>\n",
       "      <th>EducationField</th>\n",
       "      <th>EmployeeCount</th>\n",
       "      <th>...</th>\n",
       "      <th>JobRole</th>\n",
       "      <th>MaritalStatus</th>\n",
       "      <th>PerformanceRating</th>\n",
       "      <th>StockOptionLevel</th>\n",
       "      <th>TrainingTimesLastYear</th>\n",
       "      <th>WorkLifeBalance</th>\n",
       "      <th>YearsAtCompany</th>\n",
       "      <th>YearsSinceLastPromotion</th>\n",
       "      <th>OverTime</th>\n",
       "      <th>Attrition</th>\n",
       "    </tr>\n",
       "  </thead>\n",
       "  <tbody>\n",
       "    <tr>\n",
       "      <th>0</th>\n",
       "      <td>41</td>\n",
       "      <td>Travel_Rarely</td>\n",
       "      <td>5993</td>\n",
       "      <td>4</td>\n",
       "      <td>17979</td>\n",
       "      <td>Sales</td>\n",
       "      <td>1</td>\n",
       "      <td>2</td>\n",
       "      <td>Life Sciences</td>\n",
       "      <td>1</td>\n",
       "      <td>...</td>\n",
       "      <td>Sales Executive</td>\n",
       "      <td>Single</td>\n",
       "      <td>3</td>\n",
       "      <td>0</td>\n",
       "      <td>0</td>\n",
       "      <td>1</td>\n",
       "      <td>6</td>\n",
       "      <td>0</td>\n",
       "      <td>Yes</td>\n",
       "      <td>Yes</td>\n",
       "    </tr>\n",
       "    <tr>\n",
       "      <th>1</th>\n",
       "      <td>49</td>\n",
       "      <td>Travel_Frequently</td>\n",
       "      <td>5130</td>\n",
       "      <td>2</td>\n",
       "      <td>20520</td>\n",
       "      <td>Research &amp; Development</td>\n",
       "      <td>8</td>\n",
       "      <td>1</td>\n",
       "      <td>Life Sciences</td>\n",
       "      <td>1</td>\n",
       "      <td>...</td>\n",
       "      <td>Research Scientist</td>\n",
       "      <td>Married</td>\n",
       "      <td>4</td>\n",
       "      <td>1</td>\n",
       "      <td>3</td>\n",
       "      <td>3</td>\n",
       "      <td>10</td>\n",
       "      <td>1</td>\n",
       "      <td>No</td>\n",
       "      <td>No</td>\n",
       "    </tr>\n",
       "    <tr>\n",
       "      <th>2</th>\n",
       "      <td>37</td>\n",
       "      <td>Travel_Rarely</td>\n",
       "      <td>2090</td>\n",
       "      <td>3</td>\n",
       "      <td>6270</td>\n",
       "      <td>Research &amp; Development</td>\n",
       "      <td>2</td>\n",
       "      <td>2</td>\n",
       "      <td>Other</td>\n",
       "      <td>1</td>\n",
       "      <td>...</td>\n",
       "      <td>Laboratory Technician</td>\n",
       "      <td>Single</td>\n",
       "      <td>3</td>\n",
       "      <td>0</td>\n",
       "      <td>3</td>\n",
       "      <td>3</td>\n",
       "      <td>0</td>\n",
       "      <td>0</td>\n",
       "      <td>Yes</td>\n",
       "      <td>Yes</td>\n",
       "    </tr>\n",
       "    <tr>\n",
       "      <th>3</th>\n",
       "      <td>33</td>\n",
       "      <td>Travel_Frequently</td>\n",
       "      <td>2909</td>\n",
       "      <td>3</td>\n",
       "      <td>8727</td>\n",
       "      <td>Research &amp; Development</td>\n",
       "      <td>3</td>\n",
       "      <td>4</td>\n",
       "      <td>Life Sciences</td>\n",
       "      <td>1</td>\n",
       "      <td>...</td>\n",
       "      <td>Research Scientist</td>\n",
       "      <td>Married</td>\n",
       "      <td>3</td>\n",
       "      <td>0</td>\n",
       "      <td>3</td>\n",
       "      <td>3</td>\n",
       "      <td>8</td>\n",
       "      <td>3</td>\n",
       "      <td>Yes</td>\n",
       "      <td>No</td>\n",
       "    </tr>\n",
       "    <tr>\n",
       "      <th>4</th>\n",
       "      <td>27</td>\n",
       "      <td>Travel_Rarely</td>\n",
       "      <td>3468</td>\n",
       "      <td>2</td>\n",
       "      <td>10404</td>\n",
       "      <td>Research &amp; Development</td>\n",
       "      <td>2</td>\n",
       "      <td>1</td>\n",
       "      <td>Medical</td>\n",
       "      <td>1</td>\n",
       "      <td>...</td>\n",
       "      <td>Laboratory Technician</td>\n",
       "      <td>Married</td>\n",
       "      <td>3</td>\n",
       "      <td>1</td>\n",
       "      <td>3</td>\n",
       "      <td>3</td>\n",
       "      <td>2</td>\n",
       "      <td>2</td>\n",
       "      <td>No</td>\n",
       "      <td>No</td>\n",
       "    </tr>\n",
       "  </tbody>\n",
       "</table>\n",
       "<p>5 rows × 24 columns</p>\n",
       "</div>"
      ],
      "text/plain": [
       "   Age     BusinessTravel  MonthlyIncome  JobSatisfaction  Bonus  \\\n",
       "0   41      Travel_Rarely           5993                4  17979   \n",
       "1   49  Travel_Frequently           5130                2  20520   \n",
       "2   37      Travel_Rarely           2090                3   6270   \n",
       "3   33  Travel_Frequently           2909                3   8727   \n",
       "4   27      Travel_Rarely           3468                2  10404   \n",
       "\n",
       "               Department  DistanceFromHome  Education EducationField  \\\n",
       "0                   Sales                 1          2  Life Sciences   \n",
       "1  Research & Development                 8          1  Life Sciences   \n",
       "2  Research & Development                 2          2          Other   \n",
       "3  Research & Development                 3          4  Life Sciences   \n",
       "4  Research & Development                 2          1        Medical   \n",
       "\n",
       "   EmployeeCount  ...                JobRole  MaritalStatus PerformanceRating  \\\n",
       "0              1  ...        Sales Executive         Single                 3   \n",
       "1              1  ...     Research Scientist        Married                 4   \n",
       "2              1  ...  Laboratory Technician         Single                 3   \n",
       "3              1  ...     Research Scientist        Married                 3   \n",
       "4              1  ...  Laboratory Technician        Married                 3   \n",
       "\n",
       "   StockOptionLevel TrainingTimesLastYear WorkLifeBalance  YearsAtCompany  \\\n",
       "0                 0                     0               1               6   \n",
       "1                 1                     3               3              10   \n",
       "2                 0                     3               3               0   \n",
       "3                 0                     3               3               8   \n",
       "4                 1                     3               3               2   \n",
       "\n",
       "   YearsSinceLastPromotion  OverTime  Attrition  \n",
       "0                        0       Yes        Yes  \n",
       "1                        1        No         No  \n",
       "2                        0       Yes        Yes  \n",
       "3                        3       Yes         No  \n",
       "4                        2        No         No  \n",
       "\n",
       "[5 rows x 24 columns]"
      ]
     },
     "execution_count": 2,
     "metadata": {},
     "output_type": "execute_result"
    }
   ],
   "source": [
    "# Import dataset\n",
    "\n",
    "data = pd.read_csv('employee_dataset.csv')\n",
    "data.head()"
   ]
  },
  {
   "cell_type": "code",
   "execution_count": 3,
   "id": "e2688438",
   "metadata": {},
   "outputs": [
    {
     "name": "stdout",
     "output_type": "stream",
     "text": [
      "<class 'pandas.core.frame.DataFrame'>\n",
      "RangeIndex: 1470 entries, 0 to 1469\n",
      "Data columns (total 24 columns):\n",
      " #   Column                   Non-Null Count  Dtype \n",
      "---  ------                   --------------  ----- \n",
      " 0   Age                      1470 non-null   int64 \n",
      " 1   BusinessTravel           1470 non-null   object\n",
      " 2   MonthlyIncome            1470 non-null   int64 \n",
      " 3   JobSatisfaction          1470 non-null   int64 \n",
      " 4   Bonus                    1470 non-null   int64 \n",
      " 5   Department               1470 non-null   object\n",
      " 6   DistanceFromHome         1470 non-null   int64 \n",
      " 7   Education                1470 non-null   int64 \n",
      " 8   EducationField           1470 non-null   object\n",
      " 9   EmployeeCount            1470 non-null   int64 \n",
      " 10  EmployeeNumber           1470 non-null   int64 \n",
      " 11  EnvironmentSatisfaction  1470 non-null   int64 \n",
      " 12  Gender                   1470 non-null   object\n",
      " 13  JobLevel                 1470 non-null   int64 \n",
      " 14  JobRole                  1470 non-null   object\n",
      " 15  MaritalStatus            1470 non-null   object\n",
      " 16  PerformanceRating        1470 non-null   int64 \n",
      " 17  StockOptionLevel         1470 non-null   int64 \n",
      " 18  TrainingTimesLastYear    1470 non-null   int64 \n",
      " 19  WorkLifeBalance          1470 non-null   int64 \n",
      " 20  YearsAtCompany           1470 non-null   int64 \n",
      " 21  YearsSinceLastPromotion  1470 non-null   int64 \n",
      " 22  OverTime                 1470 non-null   object\n",
      " 23  Attrition                1470 non-null   object\n",
      "dtypes: int64(16), object(8)\n",
      "memory usage: 275.8+ KB\n"
     ]
    }
   ],
   "source": [
    "# Show data info\n",
    "\n",
    "data.info()"
   ]
  },
  {
   "cell_type": "code",
   "execution_count": 4,
   "id": "49720775",
   "metadata": {},
   "outputs": [
    {
     "data": {
      "text/html": [
       "<div>\n",
       "<style scoped>\n",
       "    .dataframe tbody tr th:only-of-type {\n",
       "        vertical-align: middle;\n",
       "    }\n",
       "\n",
       "    .dataframe tbody tr th {\n",
       "        vertical-align: top;\n",
       "    }\n",
       "\n",
       "    .dataframe thead th {\n",
       "        text-align: right;\n",
       "    }\n",
       "</style>\n",
       "<table border=\"1\" class=\"dataframe\">\n",
       "  <thead>\n",
       "    <tr style=\"text-align: right;\">\n",
       "      <th></th>\n",
       "      <th>Age</th>\n",
       "      <th>BusinessTravel</th>\n",
       "      <th>MonthlyIncome</th>\n",
       "      <th>JobSatisfaction</th>\n",
       "      <th>Attrition</th>\n",
       "    </tr>\n",
       "  </thead>\n",
       "  <tbody>\n",
       "    <tr>\n",
       "      <th>0</th>\n",
       "      <td>41</td>\n",
       "      <td>Travel_Rarely</td>\n",
       "      <td>5993</td>\n",
       "      <td>4</td>\n",
       "      <td>Yes</td>\n",
       "    </tr>\n",
       "    <tr>\n",
       "      <th>1</th>\n",
       "      <td>49</td>\n",
       "      <td>Travel_Frequently</td>\n",
       "      <td>5130</td>\n",
       "      <td>2</td>\n",
       "      <td>No</td>\n",
       "    </tr>\n",
       "    <tr>\n",
       "      <th>2</th>\n",
       "      <td>37</td>\n",
       "      <td>Travel_Rarely</td>\n",
       "      <td>2090</td>\n",
       "      <td>3</td>\n",
       "      <td>Yes</td>\n",
       "    </tr>\n",
       "    <tr>\n",
       "      <th>3</th>\n",
       "      <td>33</td>\n",
       "      <td>Travel_Frequently</td>\n",
       "      <td>2909</td>\n",
       "      <td>3</td>\n",
       "      <td>No</td>\n",
       "    </tr>\n",
       "    <tr>\n",
       "      <th>4</th>\n",
       "      <td>27</td>\n",
       "      <td>Travel_Rarely</td>\n",
       "      <td>3468</td>\n",
       "      <td>2</td>\n",
       "      <td>No</td>\n",
       "    </tr>\n",
       "  </tbody>\n",
       "</table>\n",
       "</div>"
      ],
      "text/plain": [
       "   Age     BusinessTravel  MonthlyIncome  JobSatisfaction Attrition\n",
       "0   41      Travel_Rarely           5993                4       Yes\n",
       "1   49  Travel_Frequently           5130                2        No\n",
       "2   37      Travel_Rarely           2090                3       Yes\n",
       "3   33  Travel_Frequently           2909                3        No\n",
       "4   27      Travel_Rarely           3468                2        No"
      ]
     },
     "execution_count": 4,
     "metadata": {},
     "output_type": "execute_result"
    }
   ],
   "source": [
    "# Drop other column and keep 'Age', 'BusinessTravel', 'Monthly Income', 'JobSatisfaction' and 'Attrition'\n",
    "\n",
    "data = data.iloc[:, [0, 1, 2, 3, -1]]\n",
    "data.head()"
   ]
  },
  {
   "cell_type": "code",
   "execution_count": 5,
   "id": "6a811c77",
   "metadata": {},
   "outputs": [
    {
     "data": {
      "text/plain": [
       "(1470, 5)"
      ]
     },
     "execution_count": 5,
     "metadata": {},
     "output_type": "execute_result"
    }
   ],
   "source": [
    "# Show data shape\n",
    "\n",
    "data.shape"
   ]
  },
  {
   "cell_type": "code",
   "execution_count": 6,
   "id": "cbadb507",
   "metadata": {},
   "outputs": [
    {
     "data": {
      "text/plain": [
       "False"
      ]
     },
     "execution_count": 6,
     "metadata": {},
     "output_type": "execute_result"
    }
   ],
   "source": [
    "# Check missing data\n",
    "\n",
    "data.isnull().values.any()"
   ]
  },
  {
   "cell_type": "code",
   "execution_count": 7,
   "id": "ca4449af",
   "metadata": {},
   "outputs": [
    {
     "data": {
      "text/html": [
       "<div>\n",
       "<style scoped>\n",
       "    .dataframe tbody tr th:only-of-type {\n",
       "        vertical-align: middle;\n",
       "    }\n",
       "\n",
       "    .dataframe tbody tr th {\n",
       "        vertical-align: top;\n",
       "    }\n",
       "\n",
       "    .dataframe thead th {\n",
       "        text-align: right;\n",
       "    }\n",
       "</style>\n",
       "<table border=\"1\" class=\"dataframe\">\n",
       "  <thead>\n",
       "    <tr style=\"text-align: right;\">\n",
       "      <th></th>\n",
       "      <th>Age</th>\n",
       "      <th>MonthlyIncome</th>\n",
       "      <th>JobSatisfaction</th>\n",
       "    </tr>\n",
       "  </thead>\n",
       "  <tbody>\n",
       "    <tr>\n",
       "      <th>count</th>\n",
       "      <td>1470.000000</td>\n",
       "      <td>1470.000000</td>\n",
       "      <td>1470.000000</td>\n",
       "    </tr>\n",
       "    <tr>\n",
       "      <th>mean</th>\n",
       "      <td>36.923810</td>\n",
       "      <td>6502.931293</td>\n",
       "      <td>2.728571</td>\n",
       "    </tr>\n",
       "    <tr>\n",
       "      <th>std</th>\n",
       "      <td>9.135373</td>\n",
       "      <td>4707.956783</td>\n",
       "      <td>1.102846</td>\n",
       "    </tr>\n",
       "    <tr>\n",
       "      <th>min</th>\n",
       "      <td>18.000000</td>\n",
       "      <td>1009.000000</td>\n",
       "      <td>1.000000</td>\n",
       "    </tr>\n",
       "    <tr>\n",
       "      <th>25%</th>\n",
       "      <td>30.000000</td>\n",
       "      <td>2911.000000</td>\n",
       "      <td>2.000000</td>\n",
       "    </tr>\n",
       "    <tr>\n",
       "      <th>50%</th>\n",
       "      <td>36.000000</td>\n",
       "      <td>4919.000000</td>\n",
       "      <td>3.000000</td>\n",
       "    </tr>\n",
       "    <tr>\n",
       "      <th>75%</th>\n",
       "      <td>43.000000</td>\n",
       "      <td>8379.000000</td>\n",
       "      <td>4.000000</td>\n",
       "    </tr>\n",
       "    <tr>\n",
       "      <th>max</th>\n",
       "      <td>60.000000</td>\n",
       "      <td>19999.000000</td>\n",
       "      <td>4.000000</td>\n",
       "    </tr>\n",
       "  </tbody>\n",
       "</table>\n",
       "</div>"
      ],
      "text/plain": [
       "               Age  MonthlyIncome  JobSatisfaction\n",
       "count  1470.000000    1470.000000      1470.000000\n",
       "mean     36.923810    6502.931293         2.728571\n",
       "std       9.135373    4707.956783         1.102846\n",
       "min      18.000000    1009.000000         1.000000\n",
       "25%      30.000000    2911.000000         2.000000\n",
       "50%      36.000000    4919.000000         3.000000\n",
       "75%      43.000000    8379.000000         4.000000\n",
       "max      60.000000   19999.000000         4.000000"
      ]
     },
     "execution_count": 7,
     "metadata": {},
     "output_type": "execute_result"
    }
   ],
   "source": [
    "# Describe data\n",
    "\n",
    "data.describe()"
   ]
  },
  {
   "cell_type": "markdown",
   "id": "ed206214",
   "metadata": {},
   "source": [
    "3. Allocate the relevant attributes as input and output"
   ]
  },
  {
   "cell_type": "code",
   "execution_count": 8,
   "id": "d9ff58db",
   "metadata": {},
   "outputs": [],
   "source": [
    "# Allocate the relevant attributes as input (X) and output (y)\n",
    "\n",
    "X = data[['Age', 'BusinessTravel', 'MonthlyIncome', 'JobSatisfaction']]\n",
    "y = data['Attrition']"
   ]
  },
  {
   "cell_type": "markdown",
   "id": "305f0b81",
   "metadata": {},
   "source": [
    "4. Use LabelEncoder to encode categorical data"
   ]
  },
  {
   "cell_type": "code",
   "execution_count": 9,
   "id": "4c924809",
   "metadata": {},
   "outputs": [
    {
     "name": "stdout",
     "output_type": "stream",
     "text": [
      "   Age  BusinessTravel  MonthlyIncome  JobSatisfaction\n",
      "0   41               2           5993                4\n",
      "1   49               1           5130                2\n",
      "2   37               2           2090                3\n",
      "3   33               1           2909                3\n",
      "4   27               2           3468                2\n"
     ]
    },
    {
     "name": "stderr",
     "output_type": "stream",
     "text": [
      "C:\\Users\\mohdz\\AppData\\Local\\Temp\\ipykernel_21824\\2278383336.py:6: SettingWithCopyWarning: \n",
      "A value is trying to be set on a copy of a slice from a DataFrame.\n",
      "Try using .loc[row_indexer,col_indexer] = value instead\n",
      "\n",
      "See the caveats in the documentation: https://pandas.pydata.org/pandas-docs/stable/user_guide/indexing.html#returning-a-view-versus-a-copy\n",
      "  X['BusinessTravel'] = label_encoder.fit_transform(X['BusinessTravel'])\n"
     ]
    }
   ],
   "source": [
    "# Use LabelEncoder to encode categorical data\n",
    "\n",
    "from sklearn.preprocessing import LabelEncoder\n",
    "\n",
    "label_encoder = LabelEncoder()\n",
    "X['BusinessTravel'] = label_encoder.fit_transform(X['BusinessTravel'])\n",
    "print(X.head())"
   ]
  },
  {
   "cell_type": "markdown",
   "id": "1e27e9ed",
   "metadata": {},
   "source": [
    "5. Split your data into training and test sets with the appropriate proportions"
   ]
  },
  {
   "cell_type": "code",
   "execution_count": 10,
   "id": "f2b06bf9",
   "metadata": {},
   "outputs": [
    {
     "name": "stdout",
     "output_type": "stream",
     "text": [
      "Training set shape: (1176, 4) (1176,)\n",
      "Test set shape: (294, 4) (294,)\n"
     ]
    }
   ],
   "source": [
    "# Split data into training and test sets with the appropriate proportions\n",
    "\n",
    "from sklearn.model_selection import train_test_split\n",
    "\n",
    "X_train, X_test, y_train, y_test = train_test_split(X, y, test_size=0.2, random_state=42)\n",
    "\n",
    "print(\"Training set shape:\", X_train.shape, y_train.shape)\n",
    "print(\"Test set shape:\", X_test.shape, y_test.shape)"
   ]
  },
  {
   "cell_type": "markdown",
   "id": "2742d2d2",
   "metadata": {},
   "source": [
    "6. Normalized your data using StandardScaler"
   ]
  },
  {
   "cell_type": "code",
   "execution_count": 11,
   "id": "94036e25",
   "metadata": {},
   "outputs": [
    {
     "name": "stdout",
     "output_type": "stream",
     "text": [
      "Scaled Training Set:\n",
      "[[-1.38855944  0.58928051 -0.86827746 -1.58233648]\n",
      " [-2.04073779 -2.46355596 -1.13280679  1.15283407]\n",
      " [-0.84507748  0.58928051  0.11653658  1.15283407]\n",
      " [ 0.24188644  0.58928051 -0.23106984 -0.67061296]\n",
      " [-0.62768469  0.58928051 -0.46436559  0.24111056]]\n"
     ]
    }
   ],
   "source": [
    "# Normalized data using StandardScaler\n",
    "\n",
    "from sklearn.preprocessing import StandardScaler\n",
    "\n",
    "scaler = StandardScaler()\n",
    "X_train_scaled = scaler.fit_transform(X_train)\n",
    "X_test_scaled = scaler.transform(X_test)\n",
    "\n",
    "print(\"Scaled Training Set:\")\n",
    "print(X_train_scaled[:5])"
   ]
  },
  {
   "cell_type": "markdown",
   "id": "0058739d",
   "metadata": {},
   "source": [
    "7. Fit the and predict results using the SVM Classifier"
   ]
  },
  {
   "cell_type": "code",
   "execution_count": 12,
   "id": "0f136a48",
   "metadata": {},
   "outputs": [
    {
     "name": "stdout",
     "output_type": "stream",
     "text": [
      "Accuracy: 0.87\n"
     ]
    }
   ],
   "source": [
    "# Fit the and predict results using the SVM Classifier\n",
    "\n",
    "from sklearn.svm import SVC\n",
    "from sklearn.metrics import accuracy_score\n",
    "\n",
    "svm_classifier = SVC()\n",
    "svm_classifier.fit(X_train_scaled, y_train)\n",
    "y_pred = svm_classifier.predict(X_test_scaled)\n",
    "\n",
    "accuracy = accuracy_score(y_test, y_pred)\n",
    "print(f\"Accuracy: {accuracy:.2f}\")"
   ]
  },
  {
   "cell_type": "markdown",
   "id": "d1909b7c",
   "metadata": {},
   "source": [
    "8. Fit the and predict results using the Naïve Bayes Classifier"
   ]
  },
  {
   "cell_type": "code",
   "execution_count": 13,
   "id": "522b7151",
   "metadata": {},
   "outputs": [
    {
     "name": "stdout",
     "output_type": "stream",
     "text": [
      "Accuracy: 0.87\n"
     ]
    }
   ],
   "source": [
    "# Fit the and predict results using the Naïve Bayes Classifier\n",
    "\n",
    "from sklearn.naive_bayes import GaussianNB\n",
    "from sklearn.metrics import accuracy_score\n",
    "\n",
    "nb_classifier = GaussianNB()\n",
    "nb_classifier.fit(X_train_scaled, y_train)\n",
    "y_pred = nb_classifier.predict(X_test_scaled)\n",
    "\n",
    "accuracy = accuracy_score(y_test, y_pred)\n",
    "print(f\"Accuracy: {accuracy:.2f}\")"
   ]
  },
  {
   "cell_type": "markdown",
   "id": "97c44fd9",
   "metadata": {},
   "source": [
    "9. Fit the and predict results using the ANN Classifier"
   ]
  },
  {
   "cell_type": "code",
   "execution_count": 14,
   "id": "49819820",
   "metadata": {},
   "outputs": [
    {
     "name": "stdout",
     "output_type": "stream",
     "text": [
      "Accuracy: 0.45\n"
     ]
    },
    {
     "name": "stderr",
     "output_type": "stream",
     "text": [
      "C:\\Users\\mohdz\\anaconda3\\Lib\\site-packages\\sklearn\\neural_network\\_multilayer_perceptron.py:691: ConvergenceWarning: Stochastic Optimizer: Maximum iterations (50) reached and the optimization hasn't converged yet.\n",
      "  warnings.warn(\n",
      "C:\\Users\\mohdz\\anaconda3\\Lib\\site-packages\\sklearn\\base.py:464: UserWarning: X does not have valid feature names, but MLPClassifier was fitted with feature names\n",
      "  warnings.warn(\n"
     ]
    }
   ],
   "source": [
    "# Fit the and predict results using the ANN Classifier\n",
    "\n",
    "from sklearn.neural_network import MLPClassifier\n",
    "from sklearn.metrics import accuracy_score\n",
    "\n",
    "ann_classifier = MLPClassifier(hidden_layer_sizes=(8,), max_iter=50, random_state=42)\n",
    "ann_classifier.fit(X_train, y_train)\n",
    "y_pred = ann_classifier.predict(X_test_scaled)\n",
    "\n",
    "accuracy = accuracy_score(y_test, y_pred)\n",
    "print(f\"Accuracy: {accuracy:.2f}\")"
   ]
  },
  {
   "cell_type": "markdown",
   "id": "d8ce16d6",
   "metadata": {},
   "source": [
    "10. Fit the and predict results using the Decision Tree Classifier"
   ]
  },
  {
   "cell_type": "code",
   "execution_count": 15,
   "id": "132812b2",
   "metadata": {},
   "outputs": [
    {
     "name": "stdout",
     "output_type": "stream",
     "text": [
      "Accuracy: 0.76\n"
     ]
    }
   ],
   "source": [
    "# Fit the and predict results using the Decision Tree Classifier\n",
    "\n",
    "from sklearn.tree import DecisionTreeClassifier\n",
    "from sklearn.metrics import accuracy_score\n",
    "\n",
    "dt_classifier = DecisionTreeClassifier(random_state=42)\n",
    "dt_classifier.fit(X_train_scaled, y_train)\n",
    "y_pred = dt_classifier.predict(X_test_scaled)\n",
    "\n",
    "accuracy = accuracy_score(y_test, y_pred)\n",
    "print(f\"Accuracy: {accuracy:.2f}\")"
   ]
  },
  {
   "cell_type": "markdown",
   "id": "4b395a56",
   "metadata": {},
   "source": [
    "11. Evaluate your results using confusion matrix and calculate the prediction accuracy for both models"
   ]
  },
  {
   "cell_type": "code",
   "execution_count": 16,
   "id": "76931e51",
   "metadata": {},
   "outputs": [
    {
     "name": "stdout",
     "output_type": "stream",
     "text": [
      "SVM Classifier:\n",
      "Accuracy: 0.87\n",
      "Confusion Matrix:\n",
      "[[255   0]\n",
      " [ 39   0]]\n",
      "\n",
      "Naïve Bayes Classifier:\n",
      "Accuracy: 0.87\n",
      "Confusion Matrix:\n",
      "[[255   0]\n",
      " [ 38   1]]\n",
      "\n",
      "ANN Classifier:\n",
      "Accuracy: 0.45\n",
      "Confusion Matrix:\n",
      "[[119 136]\n",
      " [ 25  14]]\n",
      "\n",
      "Decision Tree Classifier:\n",
      "Accuracy: 0.76\n",
      "Confusion Matrix:\n",
      "[[214  41]\n",
      " [ 31   8]]\n"
     ]
    },
    {
     "name": "stderr",
     "output_type": "stream",
     "text": [
      "C:\\Users\\mohdz\\anaconda3\\Lib\\site-packages\\sklearn\\base.py:464: UserWarning: X does not have valid feature names, but MLPClassifier was fitted with feature names\n",
      "  warnings.warn(\n"
     ]
    }
   ],
   "source": [
    "# Evaluate results using confusion matrix\n",
    "\n",
    "from sklearn.metrics import confusion_matrix, accuracy_score\n",
    "\n",
    "# Evaluate SVM Classifier\n",
    "\n",
    "y_pred_svm = svm_classifier.predict(X_test_scaled)\n",
    "accuracy_svm = accuracy_score(y_test, y_pred_svm)\n",
    "conf_matrix_svm = confusion_matrix(y_test, y_pred_svm)\n",
    "print(\"SVM Classifier:\")\n",
    "print(f\"Accuracy: {accuracy_svm:.2f}\")\n",
    "print(\"Confusion Matrix:\")\n",
    "print(conf_matrix_svm)\n",
    "\n",
    "# Evaluate Naïve Bayes Classifier\n",
    "\n",
    "y_pred_nb = nb_classifier.predict(X_test_scaled)\n",
    "accuracy_nb = accuracy_score(y_test, y_pred_nb)\n",
    "conf_matrix_nb = confusion_matrix(y_test, y_pred_nb)\n",
    "print(\"\\nNaïve Bayes Classifier:\")\n",
    "print(f\"Accuracy: {accuracy_nb:.2f}\")\n",
    "print(\"Confusion Matrix:\")\n",
    "print(conf_matrix_nb)\n",
    "\n",
    "#Evaluate ANN Classifier\n",
    "\n",
    "y_pred_ann = ann_classifier.predict(X_test_scaled)\n",
    "accuracy_ann = accuracy_score(y_test, y_pred_ann)\n",
    "conf_matrix_ann = confusion_matrix(y_test, y_pred_ann)\n",
    "print(\"\\nANN Classifier:\")\n",
    "print(f\"Accuracy: {accuracy_ann:.2f}\")\n",
    "print(\"Confusion Matrix:\")\n",
    "print(conf_matrix_ann)\n",
    "\n",
    "# Evaluate Decision Tree Classifier\n",
    "\n",
    "y_pred_dt = dt_classifier.predict(X_test_scaled)\n",
    "accuracy_dt = accuracy_score(y_test, y_pred_dt)\n",
    "conf_matrix_dt = confusion_matrix(y_test, y_pred_dt)\n",
    "print(\"\\nDecision Tree Classifier:\")\n",
    "print(f\"Accuracy: {accuracy_dt:.2f}\")\n",
    "print(\"Confusion Matrix:\")\n",
    "print(conf_matrix_dt)"
   ]
  },
  {
   "cell_type": "markdown",
   "id": "b5eeed7a",
   "metadata": {},
   "source": [
    "12. Discuss your results and findings.\n",
    "\n",
    "Both the SVM and Naïve Bayes classifiers achieved an accuracy of 87%. However, their performance differs slightly in terms of the confusion matrix. The SVM classifier correctly classified all instances of the negative class (no attrition) but misclassified all instances of the positive class (attrition), resulting in many false negatives. On the other hand, the Naïve Bayes classifier also correctly classified all instances of the negative class but correctly predicted one instance of the positive class, resulting in a lower number of false negatives.\n",
    "\n",
    "The Artificial Neural Network (ANN) classifier performed poorly compared to the SVM and Naïve Bayes classifiers, with an accuracy of only 45%. The confusion matrix reveals many false negatives and false positives, indicating a high degree of misclassification.\n",
    "\n",
    "The Decision Tree classifier achieved an accuracy of 76%. While its accuracy is lower than that of the SVM and Naïve Bayes classifiers, it performs better than that of the ANN classifier. The confusion matrix shows a moderate number of false negatives and false positives, indicating some degree of misclassification but not as severe as that of the ANN classifier."
   ]
  },
  {
   "cell_type": "markdown",
   "id": "db55cf5b",
   "metadata": {},
   "source": [
    "13. Based on your findings, propose a model to be used at the company to predict the employee attrition.\n",
    "\n",
    "Naïve Bayes classifier. The Naïve Bayes classifier achieved a high accuracy of 87%, indicating its effectiveness in predicting employee attrition. The confusion matrix shows that the Naïve Bayes classifier correctly predicted a significant portion of the positive and negative cases of attrition, with only a few false predictions. Naïve Bayes classifiers provide transparent and interpretable results, making understanding the factors influencing attrition predictions easy. The Naïve Bayes classifier naturally handles categorical features well, which is often the case in HR datasets where factors like job role, department, and business travel frequency are categorical. This interpretability can be valuable for HR professionals when making informed decisions. The Naïve Bayes classifier appears to be suitable for predicting employee attrition at the company. Its high accuracy, simplicity, ability to handle categorical features, and interpretability make it a reliable model for this task."
   ]
  },
  {
   "cell_type": "code",
   "execution_count": null,
   "id": "c9773f8f",
   "metadata": {},
   "outputs": [],
   "source": []
  }
 ],
 "metadata": {
  "kernelspec": {
   "display_name": "Python 3 (ipykernel)",
   "language": "python",
   "name": "python3"
  },
  "language_info": {
   "codemirror_mode": {
    "name": "ipython",
    "version": 3
   },
   "file_extension": ".py",
   "mimetype": "text/x-python",
   "name": "python",
   "nbconvert_exporter": "python",
   "pygments_lexer": "ipython3",
   "version": "3.11.5"
  }
 },
 "nbformat": 4,
 "nbformat_minor": 5
}
